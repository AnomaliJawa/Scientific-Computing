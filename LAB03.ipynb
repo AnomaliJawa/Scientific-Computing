{
 "cells": [
  {
   "cell_type": "code",
   "execution_count": null,
   "metadata": {},
   "outputs": [],
   "source": [
    "from scipy.interpolate import interp1d\n",
    "from scipy.interpolate import CubicSpline\n",
    "import numpy as np\n",
    "import matplotlib.pyplot as plt\n",
    "plt.style.use('seaborn-poster')"
   ]
  },
  {
   "cell_type": "code",
   "execution_count": null,
   "metadata": {},
   "outputs": [],
   "source": [
    "x = [0,1,2,3,4,5]\n",
    "y = [1,3,3,5,2,2]"
   ]
  },
  {
   "cell_type": "code",
   "execution_count": null,
   "metadata": {},
   "outputs": [],
   "source": [
    "f = interp1d(x,y)\n",
    "\n",
    "x_lin = np.linspace(0,5,100)\n",
    "y_lin = f(x_lin)\n",
    "\n",
    "y_ask = f(3.1)\n",
    "print(y_ask)"
   ]
  },
  {
   "cell_type": "code",
   "execution_count": null,
   "metadata": {},
   "outputs": [],
   "source": [
    "plt.plot(x,y,'ob')\n",
    "plt.plot(x_lin, y_lin, 'b')\n",
    "plt.plot(3.1,f(3.1),'ro')\n",
    "plt.show()"
   ]
  },
  {
   "cell_type": "code",
   "execution_count": null,
   "metadata": {},
   "outputs": [],
   "source": [
    "import numpy as np\n",
    "import matplotlib.pyplot as plt\n",
    "\n",
    "plt.style.use('seaborn-poster')\n",
    "\n",
    "%matplotlib inline\n",
    "def divided_diff(x,y):\n",
    "  n = len(y)\n",
    "  coef = np.zeros([n,n])\n",
    "  coef[:,0] = y\n",
    "\n",
    "  for j in range(1,n):\n",
    "    for i in range(n-j):\n",
    "      coef[i][j] = \\\n",
    "      (coef[i+1][j-1] - coef[i][j-1]) / (x[i+j]-x[i])\n",
    "\n",
    "  return coef\n",
    "\n",
    "def newton_poly(coef, x_data, x):\n",
    "  n = len(x_data) - 1\n",
    "  p = coef[n]\n",
    "  for k in range(1, n + 1):\n",
    "    p = coef[n-k] + (x - x_data[n-k])*p\n",
    "  return p"
   ]
  },
  {
   "cell_type": "code",
   "execution_count": null,
   "metadata": {},
   "outputs": [],
   "source": [
    "x = np.array([-5, -1, 0, 2])\n",
    "y = np.array([-2, 6, 1, 3])\n",
    "\n",
    "a_s = divided_diff(x,y)[0,:]\n",
    "\n",
    "x_new = np.arange(-5, 2.1, .1)\n",
    "y_new = newton_poly(a_s, x, x_new)\n",
    "\n",
    "plt.figure(figsize = (12, 8))\n",
    "plt.plot(x, y, 'bo')\n",
    "plt.plot(x_new, x_new, 'go')\n",
    "plt.plot(x_new, y_new)"
   ]
  },
  {
   "cell_type": "code",
   "execution_count": null,
   "metadata": {},
   "outputs": [],
   "source": [
    "x = [0,1,2,3,4,5]\n",
    "y = [1,3,3,5,2,2]\n",
    "\n",
    "f = CubicSpline(x,y,bc_type='natural')\n",
    "\n",
    "x_cube = np.linspace(0,5,100)\n",
    "y_cube = f(x_cube)\n",
    "\n",
    "y_ask = f(2.9)\n",
    "print(y_ask)"
   ]
  },
  {
   "cell_type": "code",
   "execution_count": null,
   "metadata": {},
   "outputs": [],
   "source": [
    "plt.plot(x,y,'bo')\n",
    "plt.plot(x_cube, y_cube, 'b')\n",
    "plt.plot(2.9, f(2.9),'ro')\n",
    "plt.show()"
   ]
  },
  {
   "cell_type": "markdown",
   "metadata": {},
   "source": [
    "QUIZ\n",
    "Olympiade tahun 1990, juara lomba sprint 100 m adalah Ben Johnson.\n",
    "Catatan lari ketika 0 detik kecepatannya adalah 10m/detik. Pada saat 5 m kecepatannya adalah 15m/detik. Pada saat 10 m kecepatannya larinya saat 20m/detik.\n",
    "Berapa kecepatan larinya saat pada jarak 7.2 m?\n",
    "\n",
    "Jawablah menggunakan coding python di bawah "
   ]
  },
  {
   "cell_type": "code",
   "execution_count": null,
   "metadata": {},
   "outputs": [],
   "source": [
    "from scipy.interpolate import interp1d\n",
    "from scipy.interpolate import CubicSpline\n",
    "import numpy as np\n",
    "import matplotlib.pyplot as plt\n",
    "plt.style.use('seaborn-poster')"
   ]
  },
  {
   "cell_type": "code",
   "execution_count": null,
   "metadata": {},
   "outputs": [],
   "source": [
    "x = [0,5,10]\n",
    "y = [10,15,20]"
   ]
  },
  {
   "cell_type": "code",
   "execution_count": null,
   "metadata": {},
   "outputs": [],
   "source": [
    "f = interp1d(x,y)\n",
    "\n",
    "x_lin = np.linspace(0,10,100)\n",
    "y_lin = f(x_lin)\n",
    "\n",
    "y_ask = f(7.2)\n",
    "print(y_ask)"
   ]
  },
  {
   "cell_type": "code",
   "execution_count": null,
   "metadata": {},
   "outputs": [],
   "source": [
    "plt.plot(x,y,'ob')\n",
    "plt.plot(x_lin, y_lin, 'b')\n",
    "plt.plot(7.2,f(7.2),'ro')\n",
    "plt.show()"
   ]
  },
  {
   "cell_type": "code",
   "execution_count": null,
   "metadata": {},
   "outputs": [],
   "source": [
    "def divided_diff(x,y):\n",
    "  n = len(y)\n",
    "  coef = np.zeros([n,n])\n",
    "  coef[:,0] = y\n",
    "\n",
    "  for j in range(1,n):\n",
    "    for i in range(n-j):\n",
    "      coef[i][j] = \\\n",
    "      (coef[i+1][j-1] - coef[i][j-1]) / (x[i+j]-x[i])\n",
    "\n",
    "  return coef\n",
    "\n",
    "def newton_poly(coef, x_data, x):\n",
    "  n = len(x_data) - 1\n",
    "  p = coef[n]\n",
    "  for k in range(1, n + 1):\n",
    "    p = coef[n-k] + (x - x_data[n-k])*p\n",
    "  return p"
   ]
  },
  {
   "cell_type": "code",
   "execution_count": null,
   "metadata": {},
   "outputs": [],
   "source": [
    "x = np.array([0,5,10])\n",
    "y = np.array([10,15,20])\n",
    "\n",
    "a_s = divided_diff(x,y)[0,:]\n",
    "\n",
    "x_new = np.arange(-5, 2.1, .1)\n",
    "y_new = newton_poly(a_s, x, x_new)\n",
    "\n",
    "plt.figure(figsize = (12, 8))\n",
    "plt.plot(x, y, 'bo')\n",
    "plt.plot(x_new, x_new, 'go')\n",
    "plt.plot(x_new, y_new)"
   ]
  },
  {
   "cell_type": "code",
   "execution_count": null,
   "metadata": {},
   "outputs": [],
   "source": [
    "x = [0, 5, 10]\n",
    "y = [10, 15, 20]\n",
    "\n",
    "f = CubicSpline(x,y,bc_type='natural')\n",
    "\n",
    "x_cube = np.linspace(0,10,100)\n",
    "y_cube = f(x_cube)\n",
    "\n",
    "y_ask = f(7.2)\n",
    "print(y_ask)"
   ]
  },
  {
   "cell_type": "code",
   "execution_count": null,
   "metadata": {},
   "outputs": [],
   "source": [
    "plt.plot(x,y,'bo')\n",
    "plt.plot(x_cube, y_cube, 'b')\n",
    "plt.plot(7.2, f(7.2),'ro')\n",
    "plt.show()"
   ]
  }
 ],
 "metadata": {
  "language_info": {
   "name": "python"
  }
 },
 "nbformat": 4,
 "nbformat_minor": 2
}
